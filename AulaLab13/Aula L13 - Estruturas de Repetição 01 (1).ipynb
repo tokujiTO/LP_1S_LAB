{
  "cells": [
    {
      "cell_type": "markdown",
      "metadata": {
        "id": "oNAE5ZPfjt3g"
      },
      "source": [
        "#**TTI103 - Lógica de Programação**\n",
        "\n",
        "#**Aula L13 - Estruturas de Repetição 01**"
      ]
    },
    {
      "cell_type": "markdown",
      "metadata": {
        "id": "kahb9Oa-G6OF"
      },
      "source": [
        "#**Estruturas de repetição no Python**\n",
        "\n",
        "* Estrutura Enquanto-Faça: no Python, é implementada pela instrução `while` e possui a seguinte sintaxe:"
      ]
    },
    {
      "cell_type": "code",
      "execution_count": null,
      "metadata": {
        "id": "ahmYsSzGoYXT"
      },
      "outputs": [],
      "source": [
        "# Estrutura Enquanto-Faça\n",
        "while <condição>:\n",
        "  <comandos a serem repetidos>"
      ]
    },
    {
      "cell_type": "markdown",
      "metadata": {
        "id": "jzFoqxDTqEoM"
      },
      "source": [
        "* Estrutura Para-até-Faça: no Python, é implementada pelo comando `for`. Em algumas linguagens de programação como C e Java, o\n",
        "comando `for` é utilizado em conjunto com uma variável do tipo inteiro (ou outra enumerável), que funciona como um contador que controla a quantidade de vezes que o laço será repetido. No Python, o comando `for` só funciona com tipos de dados que permitem iterações (chamados iteráveis) e o tipo inteiro não possui essa característica. Assim, a sintaxe do comando `for` em Python tem a forma:\n"
      ]
    },
    {
      "cell_type": "code",
      "execution_count": null,
      "metadata": {
        "id": "YobZcwikollk"
      },
      "outputs": [],
      "source": [
        "for <item> in <conjunto de itens>:\n",
        "  <comandos a serem repetidos>"
      ]
    },
    {
      "cell_type": "markdown",
      "metadata": {
        "id": "xAvp_AHNKrMb"
      },
      "source": [
        "#**Laços para percorrer os elementos de uma lista**\n",
        "\n",
        "Para ilustrar as formas mais usuais de percorrer os elementos de uma lista, vamos utilizar a lista que contém os anos de obtenção das cinco conquistas do Brasil em Copas do Mundo de Futebol até o momento (já usada na Aula L9)."
      ]
    },
    {
      "cell_type": "code",
      "execution_count": null,
      "metadata": {
        "id": "njI5JPw1qFe9"
      },
      "outputs": [],
      "source": [
        "anos_conquistas = [1958, 1962, 1970, 1994, 2002]\n",
        "print(anos_conquistas)"
      ]
    },
    {
      "cell_type": "markdown",
      "metadata": {
        "id": "N8LfEuRuqTYT"
      },
      "source": [
        "Como já sabemos, é possível usar uma variável inteira para indicar a posição do elemento na lista. Assim, podemos usar a seguinte construção com a estrutura `while`para percorrer os elementos da lista `anos_conquistas`:"
      ]
    },
    {
      "cell_type": "code",
      "execution_count": null,
      "metadata": {
        "id": "3a6c9vxfqzHk"
      },
      "outputs": [],
      "source": [
        "i = 0\n",
        "while i < len(anos_conquistas):\n",
        "  print(anos_conquistas[i])\n",
        "  i += 1"
      ]
    },
    {
      "cell_type": "markdown",
      "metadata": {
        "id": "Z4yaQTA-rFp8"
      },
      "source": [
        "Na célula acima, observe que a variável `i` recebe o valor zero que corresponde ao primeiro índice e, enquanto o índice for menor que o comprimento da lista (`= len(anos_conquistas)`), o elemento de índice `i` é impresso.\n",
        "\n",
        "Se optarmos por usar a estrutura `for`, podemos usar a sintaxe:"
      ]
    },
    {
      "cell_type": "code",
      "execution_count": null,
      "metadata": {
        "id": "DpV7auuXu4xQ"
      },
      "outputs": [],
      "source": [
        "for i in range(len(anos_conquistas)):\n",
        "  print(anos_conquistas[i])"
      ]
    },
    {
      "cell_type": "markdown",
      "metadata": {
        "id": "jYbkj4wtvCSE"
      },
      "source": [
        "A série retornada pelo comando `range(len(lista))` é um objeto iterável do tipo `range` e os elementos nela contidos serão gerados sob demanda durante o for, evitando o desperdício de memória.\n",
        "\n",
        "Além disso, note que não há a necessidade de:\n",
        "\n",
        "* inicializar o valor da variável de índice `i` (com `while`, foi preciso usar `i = 0` antes da estrutura de repetição);\n",
        "\n",
        "* atualizar o valor da variável de índice `i` (com `while`, foi preciso usar `i += 1` dentro da estrutura de repetição).\n",
        "\n",
        "O Python possui ainda uma segunda sintaxe mais compacta que pode ser empregada para acessar diretamente os elementos de uma lista sem mencionar explicitamente os seus índices."
      ]
    },
    {
      "cell_type": "code",
      "execution_count": null,
      "metadata": {
        "id": "XHyuikVfw-z_"
      },
      "outputs": [],
      "source": [
        "for ano in anos_conquistas:\n",
        "  print(ano)"
      ]
    },
    {
      "cell_type": "markdown",
      "metadata": {
        "id": "OEpCn6S3sLls"
      },
      "source": [
        "#**Exercício 01**\n",
        "\n",
        "Elabore um programa Python que exiba todos os números pares entre zero e um número `N` fornecido pelo usuário.\n",
        "\n",
        "**Requisito:** Certifique-se de que o usuário tenha digitado um número positivo, inteiro ou real. Pense em qual caso engloba o outro!"
      ]
    },
    {
      "cell_type": "code",
      "execution_count": null,
      "metadata": {
        "id": "hzNxMzS3z9cX"
      },
      "outputs": [],
      "source": [
        "# Exercício 01\n",
        "n = int(input('digite um número: '))\n",
        "while n < 0:\n",
        "    print('NÚMERO INVÁLIDO')\n",
        "    n = int(input('Digite um número: '))\n",
        "for c in range(0, n):\n",
        "    print(c)"
      ]
    },
    {
      "cell_type": "markdown",
      "metadata": {
        "id": "KaEOD61l1HCQ"
      },
      "source": [
        "#**Exercício 02**\n",
        "\n",
        "Elabore um programa Python que calcule e exiba o valor da série $S$ a partir de $x$ e $n$ fornecidos pelo usuário:\n",
        "\n",
        "$$S=\\ln x+x+\\frac{x^2}{2}+\\frac{x^3}{3}+\\cdots+\\frac{x^n}{n}$$\n",
        "\n",
        "**Requisitos:**\n",
        "* Uma vez que a série envolve a função $\\ln x$, devems garantir que $x>0$.\n",
        "* $n$ é um inteiro positivo. Assim, ainda que o usuário tenha fornecido um valor real, o programa deve convertê-lo para o tipo inteiro, usando o comando `int()`.\n",
        "* O valor da série deve ser exibido com precisão de três casas decimais.\n",
        "\n"
      ]
    },
    {
      "cell_type": "code",
      "execution_count": null,
      "metadata": {
        "id": "W8GqssGp2vNg"
      },
      "outputs": [],
      "source": [
        "# Exercício 02\n",
        "from math import log\n",
        "soma = 0\n",
        "x = int(input(\"Digite um número x: \"))\n",
        "n = int(input(\"Digite um número n: \"))\n",
        "while x < 0:\n",
        "    print(\"NÚMEOR INVÁLIDO\")\n",
        "    x = int(input(\"Digite um número x: \"))\n",
        "while n < 0:\n",
        "    print(\"NÚMEOR INVÁLIDO\")\n",
        "    x = int(input(\"Digite um número n: \"))\n",
        "for c in range(1, n):\n",
        "    soma += ((x**c)/c)\n",
        "soma = soma + log(x)\n",
        "print(f\"{soma:.2f}\")\n"
      ]
    },
    {
      "cell_type": "markdown",
      "metadata": {
        "id": "o-Jj_zylXNnN"
      },
      "source": [
        "Para ajudar na resolução do próximo exercício, vamos empregar a função `choice` do módulo `random`. Essa função escolhe (pseudo)aleatoriamente um elemento de uma lista à cada execução. Veja um exemplo de uso da função na célula a seguir. Execute-o algumas vezes!"
      ]
    },
    {
      "cell_type": "code",
      "execution_count": 1,
      "metadata": {
        "id": "EBQUDoZIX_lf"
      },
      "outputs": [
        {
          "name": "stdout",
          "output_type": "stream",
          "text": [
            "1a escolha = maçã\n",
            "2a escolha = banana\n",
            "3a escolha = cereja\n",
            "4a escolha = maçã\n",
            "5a escolha = banana\n",
            "6a escolha = banana\n",
            "7a escolha = maçã\n",
            "8a escolha = cereja\n",
            "9a escolha = maçã\n",
            "10a escolha = maçã\n"
          ]
        }
      ],
      "source": [
        "from random import choice\n",
        "\n",
        "frutas = ['maçã', 'banana', 'cereja']\n",
        "for i in range(10):\n",
        "  print(f'{i+1}a escolha = {choice(frutas)}')"
      ]
    },
    {
      "cell_type": "markdown",
      "metadata": {
        "id": "Aai71pygahp-"
      },
      "source": [
        "Também será útil empregar o método `count` das listas Python. O método retorna o número de ocorrências de determinado elemento em uma lista. Veja o exemplo a seguir."
      ]
    },
    {
      "cell_type": "code",
      "execution_count": null,
      "metadata": {
        "id": "QCIfYUEobC4u"
      },
      "outputs": [],
      "source": [
        "lista_num = [3, 2, 3, 3, -1, 0, 3, 4, 5, 5, 5]\n",
        "print(f'O número 3 aparece na lista_num {lista_num.count(3)} vezes.')\n",
        "print(f'O número 0 aparece na lista_num {lista_num.count(0)} vezes.')\n",
        "print(f'O número 5 aparece na lista_num {lista_num.count(5)} vezes.')"
      ]
    },
    {
      "cell_type": "markdown",
      "metadata": {
        "id": "CtoqrTEm5RNR"
      },
      "source": [
        "#**Exercício 03**\n",
        "\n",
        "Elabore um programa Python para gerenciar uma eleição. Os votos válidos são representados pelos números 1, 2 e 3, cada um correspondendo a um candidato. O voto em branco é representado pelo número 0 e o voto nulo, pelo número –1. O fluxograma deverá processar $N$ respostas da votação, calcular e exibir:\n",
        "\n",
        "**a)** o total de votos para cada candidato;\n",
        "\n",
        "**b)** o total de votos em branco;\n",
        "\n",
        "**c)** o total de votos nulos;\n",
        "\n",
        "**d)** a porcentagem de votos válidos do candidato vencedor.\n",
        "\n",
        "**Requisitos:**\n",
        "* Use uma estrutura de repetição em conjunto com a função `choice` para gerar uma lista com os $N$ votos.\n",
        "* Use o método `count` para totalizar os votos.\n"
      ]
    },
    {
      "cell_type": "code",
      "execution_count": 1,
      "metadata": {
        "id": "_Ekm8QpcXKMF"
      },
      "outputs": [],
      "source": [
        "from random import choice\n",
        "candidatos = (-1, 0, 1, 2, 3)\n",
        "votosTotais = []\n",
        "n = int(input(\"digite quantos eleitores teremos: \"))\n",
        "for c in range(0, n):\n",
        "    voto = choice(candidatos)\n",
        "    votosTotais.append(voto)\n",
        "print(f\"Votos nulos = {votosTotais.count(-1)}\")\n",
        "print(f\"Votos brancos = {votosTotais.count(0)}\")\n",
        "print(f\"Votos candidato 1 = {votosTotais.count(1)}\")\n",
        "print(f\"Votos candidato 2 = {votosTotais.count(2)}\")\n",
        "print(f\"Votos candidato 3 = {votosTotais.count(3)}\")\n",
        "if votosTotais.count(1) == max(votosTotais.count(1), votosTotais.count(2), votosTotais.count(3)):\n",
        "    vencedor = \"candidato 1\"\n",
        "elif votosTotais.count(2) == max(votosTotais.count(1), votosTotais.count(2), votosTotais.count(3)):\n",
        "    vencedor = \"candidato 2\"\n",
        "else:\n",
        "    vencedor = \"candidato 3\"\n",
        "porcentagemVencedor = (max(votosTotais.count(1), votosTotais.count(2), votosTotais.count(3))/len(votosTotais))*100\n",
        "print(f\"O vencedor da votação foi o {vencedor}, com {porcentagemVencedor:.2f}% dos votos\")\n",
        "print(votosTotais)"
      ]
    },
    {
      "cell_type": "markdown",
      "metadata": {
        "id": "rBgjlHNtk9JU"
      },
      "source": [
        "O próximo exercício vai usar o módulo `Turtle`. Para isso, instale-o executando a célula a seguir."
      ]
    },
    {
      "cell_type": "code",
      "execution_count": 2,
      "metadata": {
        "id": "nj0iBrwLlD5d"
      },
      "outputs": [
        {
          "name": "stdout",
          "output_type": "stream",
          "text": [
            "Requirement already satisfied: ColabTurtlePlus in /Library/Frameworks/Python.framework/Versions/3.12/lib/python3.12/site-packages (2.0.1)\n"
          ]
        }
      ],
      "source": [
        "!pip3 install ColabTurtlePlus\n",
        "from ColabTurtlePlus.Turtle import *"
      ]
    },
    {
      "cell_type": "markdown",
      "metadata": {
        "id": "n7c-z0Fokg2F"
      },
      "source": [
        "#**Exercício 04**\n",
        "\n",
        "Elabore um programa Python que faça com que Leonardo, Michelangelo, Donatelo e Rafael disputem um corrida! No início, as tartarugas devem se posicionar no extremo esquerdo da tela e então percorrer distâncias sorteadas aleatoriamente entre os inteiros 1 e 10. A tartaruga que chegar primeiro atingie o extremo direito da janela vence! Nesse instante, o programa deve encerrar os sorteios."
      ]
    },
    {
      "cell_type": "code",
      "execution_count": 3,
      "metadata": {
        "id": "-qbkHq-NmOB0"
      },
      "outputs": [
        {
          "ename": "TypeError",
          "evalue": "TNavigator.xcor() takes 1 positional argument but 2 were given",
          "output_type": "error",
          "traceback": [
            "\u001b[0;31m---------------------------------------------------------------------------\u001b[0m",
            "\u001b[0;31mTypeError\u001b[0m                                 Traceback (most recent call last)",
            "Cell \u001b[0;32mIn[3], line 58\u001b[0m\n\u001b[1;32m     56\u001b[0m     leonardo\u001b[38;5;241m.\u001b[39mforward(randint(\u001b[38;5;241m0\u001b[39m, \u001b[38;5;241m11\u001b[39m))\n\u001b[1;32m     57\u001b[0m     michelangelo\u001b[38;5;241m.\u001b[39mforward(randint(\u001b[38;5;241m0\u001b[39m, \u001b[38;5;241m11\u001b[39m))\n\u001b[0;32m---> 58\u001b[0m     \u001b[38;5;28;01mif\u001b[39;00m \u001b[43mdonatelo\u001b[49m\u001b[38;5;241;43m.\u001b[39;49m\u001b[43mxcor\u001b[49m\u001b[43m(\u001b[49m\u001b[38;5;241;43m300\u001b[39;49m\u001b[43m)\u001b[49m \u001b[38;5;129;01mor\u001b[39;00m rafael\u001b[38;5;241m.\u001b[39mxcor(\u001b[38;5;241m300\u001b[39m) \u001b[38;5;129;01mor\u001b[39;00m leonardo\u001b[38;5;241m.\u001b[39mxcor(\u001b[38;5;241m300\u001b[39m) \u001b[38;5;129;01mor\u001b[39;00m michelangelo\u001b[38;5;241m.\u001b[39mxcor(\u001b[38;5;241m300\u001b[39m):\n\u001b[1;32m     59\u001b[0m         vencedor \u001b[38;5;241m=\u001b[39m \u001b[38;5;28;01mFalse\u001b[39;00m\n\u001b[1;32m     61\u001b[0m turtle\u001b[38;5;241m.\u001b[39mdone()\n",
            "\u001b[0;31mTypeError\u001b[0m: TNavigator.xcor() takes 1 positional argument but 2 were given"
          ]
        },
        {
          "ename": "",
          "evalue": "",
          "output_type": "error",
          "traceback": [
            "\u001b[1;31mThe Kernel crashed while executing code in the current cell or a previous cell. \n",
            "\u001b[1;31mPlease review the code in the cell(s) to identify a possible cause of the failure. \n",
            "\u001b[1;31mClick <a href='https://aka.ms/vscodeJupyterKernelCrash'>here</a> for more info. \n",
            "\u001b[1;31mView Jupyter <a href='command:jupyter.viewOutput'>log</a> for further details."
          ]
        }
      ],
      "source": [
        "# Exercício 04\n",
        "from time import sleep\n",
        "import turtle\n",
        "from turtle import *\n",
        "from random import randint\n",
        "\n",
        "\n",
        "# Constantes\n",
        "LADO = 150            # Lado da \"janela\" (canvas)\n",
        "VELOCIDADE = 4        # Escala de 1 a 13\n",
        "\n",
        "# Criação do canvas\n",
        "clearscreen()             # Limpa a tela da execução anterior\n",
        "setup(2*LADO, 2*LADO)     # Tamanho da janela\n",
        "bgcolor('gray')      # Cor de fundo da tela          \n",
        "\n",
        "# Criação da tartaruga donatelo\n",
        "donatelo = Turtle()         # Criação\n",
        "donatelo.speed(VELOCIDADE)\n",
        "donatelo.color('purple')  # Alterando a velocidade\n",
        "donatelo.shape('turtle')\n",
        "donatelo.penup()\n",
        "donatelo.setposition(-LADO, 40)\n",
        "donatelo.pendown()\n",
        "\n",
        "rafael = Turtle()         # Criação\n",
        "rafael.speed(VELOCIDADE)\n",
        "rafael.color('red')  # Alterando a velocidade\n",
        "rafael.shape('turtle')\n",
        "rafael.penup()\n",
        "rafael.setposition(-LADO, 10)\n",
        "rafael.pendown()\n",
        "\n",
        "leonardo = Turtle()         # Criação\n",
        "leonardo.speed(VELOCIDADE)\n",
        "leonardo.color('blue')  # Alterando a velocidade\n",
        "leonardo.shape('turtle')\n",
        "leonardo.penup()\n",
        "leonardo.setposition(-LADO,-10)\n",
        "leonardo.pendown()\n",
        "\n",
        "michelangelo = Turtle()         # Criação\n",
        "michelangelo.speed(VELOCIDADE)\n",
        "michelangelo.color('yellow')  # Alterando a velocidade\n",
        "michelangelo.shape('turtle')\n",
        "michelangelo.penup()\n",
        "michelangelo.setposition(-LADO,-40)\n",
        "michelangelo.pendown()\n",
        "\n",
        "# Movimentação\n",
        "vencedor = True\n",
        "while vencedor:\n",
        "    sleep(2)\n",
        "    donatelo.forward(randint(0, 11))\n",
        "    rafael.forward(randint(0, 11))\n",
        "    leonardo.forward(randint(0, 11))\n",
        "    michelangelo.forward(randint(0, 11))\n",
        "    if donatelo.xcor(300) or rafael.xcor(300) or leonardo.xcor(300) or michelangelo.xcor(300):\n",
        "        vencedor = False\n",
        "\n",
        "turtle.done()"
      ]
    }
  ],
  "metadata": {
    "colab": {
      "provenance": []
    },
    "kernelspec": {
      "display_name": "Python 3",
      "name": "python3"
    },
    "language_info": {
      "codemirror_mode": {
        "name": "ipython",
        "version": 3
      },
      "file_extension": ".py",
      "mimetype": "text/x-python",
      "name": "python",
      "nbconvert_exporter": "python",
      "pygments_lexer": "ipython3",
      "version": "3.12.2"
    }
  },
  "nbformat": 4,
  "nbformat_minor": 0
}
